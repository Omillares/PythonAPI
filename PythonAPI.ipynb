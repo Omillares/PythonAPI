{
 "cells": [
  {
   "cell_type": "code",
   "execution_count": 1,
   "metadata": {
    "collapsed": true
   },
   "outputs": [],
   "source": [
    "from citipy import citipy\n",
    "import requests as r\n",
    "import numpy as np\n",
    "import json\n",
    "import time\n",
    "import matplotlib.pyplot as plt\n",
    "from random import random, randint\n",
    "import openweathermapy as ow\n",
    "import pandas as pd"
   ]
  },
  {
   "cell_type": "code",
   "execution_count": 2,
   "metadata": {
    "collapsed": true
   },
   "outputs": [],
   "source": [
    "api_key = 'fd006e30478a34e544f081897dd4111c'\n",
    "url = \"http://api.openweathermap.org/data/2.5/weather?\"\n",
    "units = 'metrics'"
   ]
  },
  {
   "cell_type": "code",
   "execution_count": 3,
   "metadata": {
    "collapsed": true
   },
   "outputs": [],
   "source": [
    "query_url = url + 'appid=' + api_key + '&units=' + units + '&q='"
   ]
  },
  {
   "cell_type": "code",
   "execution_count": 4,
   "metadata": {
    "collapsed": true
   },
   "outputs": [],
   "source": [
    "random_cities = 500\n",
    "lat_base = [((np.random.randint(-90, 90))) for _ in range (random_cities)]\n",
    "long_base = [((np.random.randint(-180, 180))) for _ in range (random_cities)]\n",
    "lat_long = tuple(zip(lat_base, long_base))"
   ]
  },
  {
   "cell_type": "code",
   "execution_count": 5,
   "metadata": {
    "collapsed": true
   },
   "outputs": [],
   "source": [
    "weather_data = []\n",
    "cities = []\n",
    "country = []\n",
    "\n",
    "for lat,lon in lat_long:\n",
    "    city = citipy.nearest_city(lat,lon)\n",
    "    city_N = city.city_name\n",
    "    cities.append(city_N)\n",
    "    country.append(city.country_code)\n",
    "    response = r.get(query_url + city_N).json()\n",
    "    weather_data.append(response)"
   ]
  },
  {
   "cell_type": "code",
   "execution_count": 7,
   "metadata": {},
   "outputs": [
    {
     "data": {
      "text/html": [
       "<div>\n",
       "<style>\n",
       "    .dataframe thead tr:only-child th {\n",
       "        text-align: right;\n",
       "    }\n",
       "\n",
       "    .dataframe thead th {\n",
       "        text-align: left;\n",
       "    }\n",
       "\n",
       "    .dataframe tbody tr th {\n",
       "        vertical-align: top;\n",
       "    }\n",
       "</style>\n",
       "<table border=\"1\" class=\"dataframe\">\n",
       "  <thead>\n",
       "    <tr style=\"text-align: right;\">\n",
       "      <th></th>\n",
       "      <th>Cities</th>\n",
       "      <th>Country</th>\n",
       "      <th>Latitude</th>\n",
       "      <th>Longitude</th>\n",
       "    </tr>\n",
       "  </thead>\n",
       "  <tbody>\n",
       "    <tr>\n",
       "      <th>0</th>\n",
       "      <td>luganville</td>\n",
       "      <td>vu</td>\n",
       "      <td>-15</td>\n",
       "      <td>165</td>\n",
       "    </tr>\n",
       "    <tr>\n",
       "      <th>1</th>\n",
       "      <td>college</td>\n",
       "      <td>us</td>\n",
       "      <td>66</td>\n",
       "      <td>-149</td>\n",
       "    </tr>\n",
       "    <tr>\n",
       "      <th>2</th>\n",
       "      <td>kaitangata</td>\n",
       "      <td>nz</td>\n",
       "      <td>-62</td>\n",
       "      <td>173</td>\n",
       "    </tr>\n",
       "    <tr>\n",
       "      <th>3</th>\n",
       "      <td>klaksvik</td>\n",
       "      <td>fo</td>\n",
       "      <td>66</td>\n",
       "      <td>-3</td>\n",
       "    </tr>\n",
       "    <tr>\n",
       "      <th>4</th>\n",
       "      <td>bathsheba</td>\n",
       "      <td>bb</td>\n",
       "      <td>21</td>\n",
       "      <td>-48</td>\n",
       "    </tr>\n",
       "  </tbody>\n",
       "</table>\n",
       "</div>"
      ],
      "text/plain": [
       "       Cities Country  Latitude  Longitude\n",
       "0  luganville      vu       -15        165\n",
       "1     college      us        66       -149\n",
       "2  kaitangata      nz       -62        173\n",
       "3    klaksvik      fo        66         -3\n",
       "4   bathsheba      bb        21        -48"
      ]
     },
     "execution_count": 7,
     "metadata": {},
     "output_type": "execute_result"
    }
   ],
   "source": [
    "weather_df = pd.DataFrame({'Cities': cities,\n",
    "              'Country': country, 'Latitude': lat_base, 'Longitude': long_base })\n",
    "weather_df.head()"
   ]
  },
  {
   "cell_type": "code",
   "execution_count": 8,
   "metadata": {},
   "outputs": [],
   "source": [
    "tempature = []\n",
    "humidity = []\n",
    "cloudiness = []\n",
    "wind_speed = []\n",
    "for city in cities:\n",
    "    weather_response = r.get(query_url + city_N).json()\n",
    "    try:\n",
    "        tempature.append(weather_response['main']['temp'])\n",
    "        humidity.append(weather_response['main']['humidity'])\n",
    "        cloudiness.append(weather_response['clouds']['all'])\n",
    "        wind_speed.append(weather_response['wind']['speed'])\n",
    "    except:\n",
    "        print(\"Skipping\")"
   ]
  },
  {
   "cell_type": "code",
   "execution_count": 9,
   "metadata": {
    "collapsed": true
   },
   "outputs": [],
   "source": [
    "plotting_data = pd.DataFrame({\"Temp\": tempature, \"Humidity\": humidity, \"Cdiness\": cloudiness, \"Speed of Wind\": wind_speed})"
   ]
  },
  {
   "cell_type": "code",
   "execution_count": 20,
   "metadata": {},
   "outputs": [
    {
     "data": {
      "image/png": "[encoded data removed]",
      "text/plain": [
       "<matplotlib.figure.Figure at 0x237b32c0cf8>"
      ]
     },
     "metadata": {},
     "output_type": "display_data"
    }
   ],
   "source": [
    "plt.scatter(weather_df[\"Latitude\"], plotting_data[\"Temp\"], marker=\"o\")\n",
    "plt.title(\"Temperatures vs Latitude for Cities\")\n",
    "plt.ylabel(\"Temperature\")\n",
    "plt.xlabel(\"Latitude\")\n",
    "plt.grid(True)\n",
    "plt.show()\n",
    "plt.savefig(\"Temperatures vs Latitude for Cities.png\")"
   ]
  },
  {
   "cell_type": "code",
   "execution_count": 22,
   "metadata": {},
   "outputs": [
    {
     "data": {
      "image/png": "[encoded data removed]",
      "text/plain": [
       "<matplotlib.figure.Figure at 0x237b32c0e10>"
      ]
     },
     "metadata": {},
     "output_type": "display_data"
    }
   ],
   "source": [
    "plt.scatter(weather_df[\"Latitude\"], plotting_data[\"Humidity\"], marker=\"o\")\n",
    "plt.title(\"Humidity Data\")\n",
    "plt.ylabel(\"Humidity\")\n",
    "plt.xlabel(\"Latitude\")\n",
    "plt.grid(True)\n",
    "plt.show()\n",
    "plt.savefig(\"Humidity Data.png\")"
   ]
  },
  {
   "cell_type": "code",
   "execution_count": 23,
   "metadata": {},
   "outputs": [
    {
     "data": {
      "image/png": "[encoded data removed]",
      "text/plain": [
       "<matplotlib.figure.Figure at 0x237b318e908>"
      ]
     },
     "metadata": {},
     "output_type": "display_data"
    }
   ],
   "source": [
    "plt.scatter(weather_df[\"Latitude\"], plotting_data[\"Cdiness\"], marker=\"o\")\n",
    "plt.title(\"Cloudiness Data\")\n",
    "plt.ylabel(\"Cloudiness\")\n",
    "plt.xlabel(\"Latitude\")\n",
    "plt.grid(True)\n",
    "plt.show()\n",
    "plt.savefig(\"Cloudiness Data.png\")"
   ]
  },
  {
   "cell_type": "code",
   "execution_count": 24,
   "metadata": {},
   "outputs": [
    {
     "data": {
      "image/png": "[encoded data removed]",
      "text/plain": [
       "<matplotlib.figure.Figure at 0x237b32e2518>"
      ]
     },
     "metadata": {},
     "output_type": "display_data"
    }
   ],
   "source": [
    "plt.scatter(weather_df[\"Latitude\"], plotting_data[\"Speed of Wind\"], marker=\"o\")\n",
    "plt.title(\"Speed of Wind Data\")\n",
    "plt.ylabel(\"Speed of Wind\")\n",
    "plt.xlabel(\"Latitude\")\n",
    "plt.grid(True)\n",
    "plt.show()\n",
    "plt.savefig(\"Speed of Wind Data.png\")"
   ]
  },
  {
   "cell_type": "code",
   "execution_count": null,
   "metadata": {
    "collapsed": true
   },
   "outputs": [],
   "source": []
  }
 ],
 "metadata": {
  "kernelspec": {
   "display_name": "Python 3",
   "language": "python",
   "name": "python3"
  },
  "language_info": {
   "codemirror_mode": {
    "name": "ipython",
    "version": 3
   },
   "file_extension": ".py",
   "mimetype": "text/x-python",
   "name": "python",
   "nbconvert_exporter": "python",
   "pygments_lexer": "ipython3",
   "version": "3.6.3"
  }
 },
 "nbformat": 4,
 "nbformat_minor": 2
}
